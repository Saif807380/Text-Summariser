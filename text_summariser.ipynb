{
 "cells": [
  {
   "cell_type": "code",
   "execution_count": 1,
   "metadata": {},
   "outputs": [],
   "source": [
    "import spacy\n",
    "from spacy.lang.en.stop_words import STOP_WORDS\n",
    "from string import punctuation\n",
    "import sys\n",
    "from heapq import nlargest"
   ]
  },
  {
   "cell_type": "code",
   "execution_count": 2,
   "metadata": {},
   "outputs": [],
   "source": [
    "nlp = spacy.load('en_core_web_lg')"
   ]
  },
  {
   "cell_type": "code",
   "execution_count": 3,
   "metadata": {},
   "outputs": [],
   "source": [
    "stopwords = list(STOP_WORDS)"
   ]
  },
  {
   "cell_type": "code",
   "execution_count": 4,
   "metadata": {},
   "outputs": [],
   "source": [
    "def calc_word_frequencies(doc):\n",
    "    word_frequencies = {}\n",
    "    for word in doc:\n",
    "        if word.text not in stopwords and word.text not in punctuation:\n",
    "                if word.text not in word_frequencies.keys():\n",
    "                    word_frequencies[word.text] = 1\n",
    "                else:\n",
    "                    word_frequencies[word.text] += 1\n",
    "    return word_frequencies"
   ]
  },
  {
   "cell_type": "code",
   "execution_count": 5,
   "metadata": {},
   "outputs": [],
   "source": [
    "def get_max_frequency(word_frequencies):\n",
    "    return max(word_frequencies.values())"
   ]
  },
  {
   "cell_type": "code",
   "execution_count": 6,
   "metadata": {},
   "outputs": [],
   "source": [
    "def normalize_word_frequencies(word_frequencies):\n",
    "    max_frequency = get_max_frequency(word_frequencies)\n",
    "    for word in word_frequencies.keys():\n",
    "        word_frequencies[word] = (word_frequencies[word]/max_frequency)\n",
    "    return word_frequencies"
   ]
  },
  {
   "cell_type": "code",
   "execution_count": 86,
   "metadata": {},
   "outputs": [],
   "source": [
    "def get_sent_scores(sentence_list,word_frequencies):\n",
    "    sentence_scores = {}  \n",
    "    for i,sent in enumerate(sentence_list):  \n",
    "        for word in sent:\n",
    "            if word.text in word_frequencies.keys():\n",
    "                if sent not in sentence_scores.keys():\n",
    "                    sentence_scores[sent] = [word_frequencies[word.text],i]\n",
    "                else:\n",
    "                    sentence_scores[sent][0] += word_frequencies[word.text]\n",
    "    return sentence_scores"
   ]
  },
  {
   "cell_type": "code",
   "execution_count": 154,
   "metadata": {},
   "outputs": [],
   "source": [
    "def generate_summary(doc,sents_in_summary):\n",
    "    word_frequencies = calc_word_frequencies(doc)\n",
    "    word_frequencies = normalize_word_frequencies(word_frequencies)\n",
    "    sentence_scores = get_sent_scores([sent for sent in doc.sents],word_frequencies)\n",
    "    \n",
    "    #sorting according to decreasing order of importance and choosing the first (sents_in_summary) sentences\n",
    "    summarized_sentences = sorted(sentence_scores.items(),key=lambda x: x[1],reverse=True)[:sents_in_summary]\n",
    "    \n",
    "    #sorting according to appearance of sentences in the original text\n",
    "    summarized_sentences = sorted(summarized_sentences,key=lambda x: x[1][1])\n",
    "    \n",
    "    final_sentences = [x[0].text.capitalize() for x in summarized_sentences]\n",
    "    summary = \" \".join(final_sentences)\n",
    "    return summary"
   ]
  },
  {
   "cell_type": "code",
   "execution_count": 156,
   "metadata": {},
   "outputs": [],
   "source": [
    "doc = '''In the distant past, many people thought bats had magical powers, but times\n",
    "have changed. Today, many people believe that bats are rodents, that they cannot\n",
    "see, and that they are more likely than other animals to carry rabies. All of these\n",
    "beliefs are mistaken. Bats are not rodents, are not blind, and are no more likely\n",
    "than dogs and cats to transmit rabies. Bats, in fact, are among the least understood\n",
    "and least appreciated of animals.\n",
    "Bats are not rodents with wings, contrary to popular belief. Like all rodents, bats\n",
    "are mammals, but they have a skeleton similar to the human skeleton. The bones in\n",
    "bat wings are much like those in arms and the human hand, with a thumb and four\n",
    "fingers. In bats, the bones of the arms and the four fingers of the hands are very\n",
    "long. This bone structure helps support the web of skin that stretches from the body\n",
    "to the ends of the fingers to form wings.\n",
    "Although bats cannot see colors, they have good vision in both dim and bright\n",
    "light. Since most bats stay in darkness during the day and do their feeding at night,\n",
    "they do not use their vision to maneuver in the dark but use a process called\n",
    "echolocation. This process enables bats to emit sounds from their mouths that bounce\n",
    "off objects and allow them to avoid the objects when flying. They use this system to\n",
    "locate flying insects to feed on as well. Typically, insect-eating bats emerge at dusk\n",
    "and fly to streams or ponds where they feed. They catch the insects on their wingtip\n",
    "or tail membrane and fling them into their mouths while flying.\n",
    "There are about 1,000 species of bat, ranging in size from the bumblebee bat,\n",
    "which is about an inch long, to the flying fox, which is sixteen inches long and has a\n",
    "wingspan of five feet. Each type of bat has a specialized diet. For seventy percent\n",
    "of bats, the diet is insects. Other types of bats feed on flowers, pollen, nectar, and\n",
    "fruit or on small animals such as birds, mice, lizards, and frogs.\n",
    "One species of bat feeds on the blood of large mammals. This is the common\n",
    "vampire bat, which lives only in Latin America and is probably best known for\n",
    "feeding on the blood of cattle. Unfortunately, in an attempt to control vampire bat\n",
    "populations, farmers have unintentionally killed thousands of beneficial fruit-and\n",
    "insect-eating bats as well.\n",
    "Bats, in fact, perform a number of valuable functions. Their greatest economic\n",
    "value is in eliminating insect pests. Insect- eating bats can catch six hundred\n",
    "mosquitoes in an hour and eat half their body weight in insects every night. In many\n",
    "tropical rain forests, fruit-eating bats are the main means of spreading the seeds of\n",
    "tropical fruits. Nectar-feeding bats pollinate a number of tropical plants. If it were\n",
    "not for bats, we might not have peaches, bananas, mangoes, guavas, figs, or dates.\n",
    "Today, the survival of many bat species is uncertain. Sixty percent of bats do not\n",
    "survive past infancy. Some are killed by predators such as owls, hawks, snakes and\n",
    "other meat-eating creatures, but most are victims of pesticides and other human\n",
    "intrusions. In Carlsbad Caverns, New Mexico, where there were once eight million\n",
    "bats, there are now a quarter million. At Eagle Creek, Arizona, the bat population\n",
    "dropped from thirty million to thirty thousand in six years.\n",
    "Bats often have been burdened with a bad reputation, perhaps because they\n",
    "are not the warm, cuddly sort of animal we love to love. However, their unusual\n",
    "physical features should not lead us to overestimate their harm or to underestimate\n",
    "their value.'''"
   ]
  },
  {
   "cell_type": "code",
   "execution_count": 157,
   "metadata": {},
   "outputs": [],
   "source": [
    "doc = nlp(doc.lower())"
   ]
  },
  {
   "cell_type": "code",
   "execution_count": 158,
   "metadata": {},
   "outputs": [],
   "source": [
    "tokens = [token for token in doc]"
   ]
  },
  {
   "cell_type": "code",
   "execution_count": 159,
   "metadata": {},
   "outputs": [],
   "source": [
    "sents_in_summary = 10"
   ]
  },
  {
   "cell_type": "code",
   "execution_count": 160,
   "metadata": {},
   "outputs": [],
   "source": [
    "summary = generate_summary(doc,sents_in_summary)"
   ]
  },
  {
   "cell_type": "code",
   "execution_count": 161,
   "metadata": {},
   "outputs": [
    {
     "name": "stdout",
     "output_type": "stream",
     "text": [
      "Bats, in fact, are among the least understood\n",
      "and least appreciated of animals.\n",
      " The bones in\n",
      "bat wings are much like those in arms and the human hand, with a thumb and four\n",
      "fingers. Since most bats stay in darkness during the day and do their feeding at night,\n",
      "they do not use their vision to maneuver in the dark but use a process called\n",
      "echolocation. There are about 1,000 species of bat, ranging in size from the bumblebee bat,\n",
      "which is about an inch long, to the flying fox, which is sixteen inches long and has a\n",
      "wingspan of five feet. Other types of bats feed on flowers, pollen, nectar, and\n",
      "fruit or on small animals such as birds, mice, lizards, and frogs.\n",
      " This is the common\n",
      "vampire bat, which lives only in latin america and is probably best known for\n",
      "feeding on the blood of cattle. Unfortunately, in an attempt to control vampire bat\n",
      "populations, farmers have unintentionally killed thousands of beneficial fruit-and\n",
      "insect-eating bats as well.\n",
      " In many\n",
      "tropical rain forests, fruit-eating bats are the main means of spreading the seeds of\n",
      "tropical fruits. If it were\n",
      "not for bats, we might not have peaches, bananas, mangoes, guavas, figs, or dates.\n",
      " At eagle creek, arizona, the bat population\n",
      "dropped from thirty million to thirty thousand in six years.\n",
      "\n"
     ]
    }
   ],
   "source": [
    "print(summary)"
   ]
  },
  {
   "cell_type": "code",
   "execution_count": null,
   "metadata": {},
   "outputs": [],
   "source": []
  }
 ],
 "metadata": {
  "kernelspec": {
   "display_name": "Python 3.6.8 64-bit",
   "language": "python",
   "name": "python36864bit3c13f8fff6db4497b0cd977cdce4bf32"
  },
  "language_info": {
   "codemirror_mode": {
    "name": "ipython",
    "version": 3
   },
   "file_extension": ".py",
   "mimetype": "text/x-python",
   "name": "python",
   "nbconvert_exporter": "python",
   "pygments_lexer": "ipython3",
   "version": "3.6.8"
  }
 },
 "nbformat": 4,
 "nbformat_minor": 2
}
