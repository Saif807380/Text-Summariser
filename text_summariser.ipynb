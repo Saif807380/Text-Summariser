{
 "cells": [
  {
   "cell_type": "code",
   "execution_count": 1,
   "metadata": {},
   "outputs": [],
   "source": [
    "import spacy\n",
    "from spacy.lang.en.stop_words import STOP_WORDS\n",
    "from string import punctuation\n",
    "import sys\n",
    "from heapq import nlargest"
   ]
  },
  {
   "cell_type": "code",
   "execution_count": 2,
   "metadata": {},
   "outputs": [],
   "source": [
    "nlp = spacy.load('en_core_web_lg')"
   ]
  },
  {
   "cell_type": "code",
   "execution_count": 3,
   "metadata": {},
   "outputs": [],
   "source": [
    "stopwords = list(STOP_WORDS)"
   ]
  },
  {
   "cell_type": "code",
   "execution_count": 4,
   "metadata": {},
   "outputs": [],
   "source": [
    "def calc_word_frequencies(doc):\n",
    "    word_frequencies = {}\n",
    "    for word in doc:\n",
    "        if word.text not in stopwords and word.text not in punctuation:\n",
    "                if word.text not in word_frequencies.keys():\n",
    "                    word_frequencies[word.text] = 1\n",
    "                else:\n",
    "                    word_frequencies[word.text] += 1\n",
    "    return word_frequencies"
   ]
  },
  {
   "cell_type": "code",
   "execution_count": 5,
   "metadata": {},
   "outputs": [],
   "source": [
    "def get_max_frequency(word_frequencies):\n",
    "    return max(word_frequencies.values())"
   ]
  },
  {
   "cell_type": "code",
   "execution_count": 6,
   "metadata": {},
   "outputs": [],
   "source": [
    "def normalize_word_frequencies(word_frequencies):\n",
    "    max_frequency = get_max_frequency(word_frequencies)\n",
    "    for word in word_frequencies.keys():\n",
    "        word_frequencies[word] = (word_frequencies[word]/max_frequency)\n",
    "    return word_frequencies"
   ]
  },
  {
   "cell_type": "code",
   "execution_count": 7,
   "metadata": {},
   "outputs": [],
   "source": [
    "def get_sent_scores(sentence_list,word_frequencies):\n",
    "    sentence_scores = {}  \n",
    "    for sent in sentence_list:  \n",
    "        for word in sent:\n",
    "            if word.text in word_frequencies.keys():\n",
    "                if len(sent.text.split(' ')) < 30:\n",
    "                    if sent not in sentence_scores.keys():\n",
    "                        sentence_scores[sent] = word_frequencies[word.text]\n",
    "                    else:\n",
    "                        sentence_scores[sent] += word_frequencies[word.text]\n",
    "    return sentence_scores"
   ]
  },
  {
   "cell_type": "code",
   "execution_count": 56,
   "metadata": {},
   "outputs": [],
   "source": [
    "def generate_summary(doc,sents_in_summary):\n",
    "    word_frequencies = calc_word_frequencies(doc)\n",
    "    word_frequencies = normalize_word_frequencies(word_frequencies)\n",
    "    sentence_scores = get_sent_scores([sent for sent in doc.sents],word_frequencies)\n",
    "    summarized_sentences = nlargest(sents_in_summary, sentence_scores, key=sentence_scores.get)\n",
    "    final_sentences = [w.text for w in summarized_sentences]\n",
    "    summary = \" \".join(final_sentences)\n",
    "    return summary"
   ]
  },
  {
   "cell_type": "code",
   "execution_count": 62,
   "metadata": {},
   "outputs": [],
   "source": [
    "doc = '''Recitals are often included immediately following the preamble, to set forth background\n",
    "information regarding the parties and the purpose of the employment agreement and to provide\n",
    "relevant information to put the terms of the employment agreement in proper context. The\n",
    "recitals usually conclude with a brief statement affirming the intention of the parties to be bound\n",
    "by the agreement. Recitals can demonstrate intent of the parties if there is an ambiguity in the\n",
    "agreement, but they will not be used to determine if an ambiguity exists unless expressly made\n",
    "part of the agreement. Sometimes, the recitals are incorporated by reference as material terms of\n",
    "the agreement.\n",
    "An example of a preamble and recitals is set forth below:\n",
    "PHYSICIAN EMPLOYMENT AGREEMENT\n",
    "This Physician Employment Agreement (this \"Agreement\") is entered into on\n",
    "(the \"Execution Date\"), but effective as of\n",
    "_ (the \"Effective Date\"), by and between Large\n",
    "Texas Medical Group, P.A., a Texas professional association (\"Employer\"), and\n",
    "Joan Q. Physician, M.D. (\"Physician\").\n",
    "Recitals\n",
    "WHEREAS, through its employed and contracted physicians, Employer conducts\n",
    "a medical practice at\n",
    "in\n",
    "Texas; and\n",
    "WHEREAS, Physician is duly licensed to practice medicine in the State of Texas;\n",
    "and\n",
    "WHEREAS, Employer desires to employ Physician to render medical services as\n",
    "an employed physician of Employer, and Physician desires to accept such\n",
    "employment, all as stated in this Agreement.\n",
    "NOW, THEREFORE, in consideration of the mutual terms and conditions set\n",
    "forth in this Agreement, the parties, intending to be legally bound, agree as\n",
    "follows:\n",
    "B.\n",
    "Agreement to Employ and Acceptance\n",
    "The employment agreement should state that the employer employs the physician, and\n",
    "the physician accepts employment with the employer, in each case on the terms and subject to\n",
    "the conditions set forth in the employment agreement. A sample provision is set forth below; for\n",
    "discussion regarding the commencement date of employment, see \"Term of Agreement\" at\n",
    "Section J below:\n",
    "WHEREAS, Employer desires to employ Physician to render medical services as\n",
    "an employed physician of Employer, and Physician desires to accept such\n",
    "employment, all as stated in this Agreement.'''"
   ]
  },
  {
   "cell_type": "code",
   "execution_count": 63,
   "metadata": {},
   "outputs": [],
   "source": [
    "doc = nlp(doc.lower())"
   ]
  },
  {
   "cell_type": "code",
   "execution_count": 64,
   "metadata": {},
   "outputs": [],
   "source": [
    "tokens = [token for token in doc]"
   ]
  },
  {
   "cell_type": "code",
   "execution_count": 65,
   "metadata": {},
   "outputs": [],
   "source": [
    "sents_in_summary = 10"
   ]
  },
  {
   "cell_type": "code",
   "execution_count": 66,
   "metadata": {},
   "outputs": [],
   "source": [
    "summary = generate_summary(doc,sents_in_summary)"
   ]
  },
  {
   "cell_type": "code",
   "execution_count": 67,
   "metadata": {},
   "outputs": [
    {
     "name": "stdout",
     "output_type": "stream",
     "text": [
      "(the \"execution date\"), but effective as of\n",
      "_ (the \"effective date\"), by and between large\n",
      "texas medical group, p.a., a texas professional association (\"employer\"), and\n",
      "joan q. physician, m.d. (\"physician\").\n",
      " now, therefore, in consideration of the mutual terms and conditions set\n",
      "forth in this agreement, the parties, intending to be legally bound, agree as\n",
      "follows:\n",
      " an employed physician of employer, and physician desires to accept such\n",
      "employment, all as stated in this agreement.\n",
      " an example of a preamble and recitals is set forth below:\n",
      "physician employment agreement\n",
      " a sample provision is set forth below; for\n",
      "discussion regarding the commencement date of employment, see \"term of agreement\" at\n",
      " section j below:\n",
      "whereas, employer desires to employ physician to render medical services as\n",
      " the\n",
      "recitals usually conclude with a brief statement affirming the intention of the parties to be bound\n",
      "by the agreement. an employed physician of employer, and physician desires to accept such\n",
      "employment, all as stated in this agreement. sometimes, the recitals are incorporated by reference as material terms of\n",
      "the agreement.\n",
      " b.\n",
      "agreement to employ and acceptance\n",
      "\n"
     ]
    }
   ],
   "source": [
    "print(summary)"
   ]
  },
  {
   "cell_type": "code",
   "execution_count": null,
   "metadata": {},
   "outputs": [],
   "source": []
  }
 ],
 "metadata": {
  "kernelspec": {
   "display_name": "Python 3.6.8 64-bit",
   "language": "python",
   "name": "python36864bit3c13f8fff6db4497b0cd977cdce4bf32"
  },
  "language_info": {
   "codemirror_mode": {
    "name": "ipython",
    "version": 3
   },
   "file_extension": ".py",
   "mimetype": "text/x-python",
   "name": "python",
   "nbconvert_exporter": "python",
   "pygments_lexer": "ipython3",
   "version": "3.6.8"
  }
 },
 "nbformat": 4,
 "nbformat_minor": 2
}
